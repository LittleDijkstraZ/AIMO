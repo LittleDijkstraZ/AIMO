{
 "cells": [
  {
   "cell_type": "code",
   "execution_count": 8,
   "metadata": {},
   "outputs": [
    {
     "name": "stderr",
     "output_type": "stream",
     "text": [
      "/home/dijkstraz/anaconda3/envs/kaggle/lib/python3.10/site-packages/huggingface_hub/file_download.py:1132: FutureWarning: `resume_download` is deprecated and will be removed in version 1.0.0. Downloads always resume when possible. If you want to force a new download, use `force_download=True`.\n",
      "  warnings.warn(\n",
      "Special tokens have been added in the vocabulary, make sure the associated word embeddings are fine-tuned or trained.\n"
     ]
    },
    {
     "data": {
      "application/vnd.jupyter.widget-view+json": {
       "model_id": "cad680d149f341e09a919e4a3bc96827",
       "version_major": 2,
       "version_minor": 0
      },
      "text/plain": [
       "Loading checkpoint shards:   0%|          | 0/2 [00:00<?, ?it/s]"
      ]
     },
     "metadata": {},
     "output_type": "display_data"
    },
    {
     "data": {
      "application/vnd.jupyter.widget-view+json": {
       "model_id": "33b04bc0c5bc4ffbb4531cf1ab5ea1f5",
       "version_major": 2,
       "version_minor": 0
      },
      "text/plain": [
       "generation_config.json:   0%|          | 0.00/121 [00:00<?, ?B/s]"
      ]
     },
     "metadata": {},
     "output_type": "display_data"
    }
   ],
   "source": [
    "from transformers import AutoModel, AutoConfig, AutoTokenizer, AutoModelForCausalLM\n",
    "\n",
    "# Define the model you want to download\n",
    "model_name = \"deepseek-ai/deepseek-math-7b-instruct\"\n",
    "\n",
    "# Specify the directory where you want to store the model\n",
    "cache_dir = \"./input/deepseek-math-7b-instruct/\"\n",
    "\n",
    "# Download the model\n",
    "# model = AutoModel.from_pretrained(model_name, cache_dir=save_directory, device_map='cpu')\n",
    "# AutoConfig.from_pretrained(model_name, cache_dir=save_directory, device_map='cpu')\n",
    "# AutoTokenizer.from_pretrained(model_name, cache_dir=save_directory)\n",
    "model_config = AutoConfig.from_pretrained(model_name, cache_dir=cache_dir)\n",
    "tokenizer = AutoTokenizer.from_pretrained(model_name, cache_dir=cache_dir)\n",
    "model = AutoModelForCausalLM.from_pretrained(\n",
    "    model_name,\n",
    "    cache_dir = \"./input/deepseek-math-7b-instruct/\",\n",
    "    device_map='cuda',\n",
    "    torch_dtype=\"auto\",\n",
    "    trust_remote_code=True,\n",
    "    config=model_config,\n",
    ")"
   ]
  }
 ],
 "metadata": {
  "kernelspec": {
   "display_name": "Python 3",
   "language": "python",
   "name": "python3"
  },
  "language_info": {
   "codemirror_mode": {
    "name": "ipython",
    "version": 3
   },
   "file_extension": ".py",
   "mimetype": "text/x-python",
   "name": "python",
   "nbconvert_exporter": "python",
   "pygments_lexer": "ipython3",
   "version": "3.10.12"
  }
 },
 "nbformat": 4,
 "nbformat_minor": 2
}
